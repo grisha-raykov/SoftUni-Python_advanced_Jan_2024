{
 "cells": [
  {
   "cell_type": "markdown",
   "source": [
    "Функцията е парче код\n",
    "Не е добре да се повтаря код"
   ],
   "metadata": {
    "collapsed": false
   },
   "id": "78e1ec9fb027bb58"
  },
  {
   "cell_type": "code",
   "outputs": [
    {
     "name": "stdout",
     "output_type": "stream",
     "text": [
      "1\n",
      "2\n",
      "3\n",
      "4\n",
      "5\n",
      "6\n",
      "7\n",
      "8\n",
      "9\n",
      "10\n"
     ]
    }
   ],
   "source": [
    "for num in range(1, 11):\n",
    "    print(num)"
   ],
   "metadata": {
    "collapsed": false,
    "ExecuteTime": {
     "end_time": "2024-01-23T16:06:09.551529Z",
     "start_time": "2024-01-23T16:06:09.533955300Z"
    }
   },
   "id": "64c81dd3bdca2f06",
   "execution_count": 3
  },
  {
   "cell_type": "code",
   "outputs": [],
   "source": [
    "def count_nums(end_num):\n",
    "    for num in range(1, end_num+1):\n",
    "        print(num)"
   ],
   "metadata": {
    "collapsed": false,
    "ExecuteTime": {
     "end_time": "2024-01-23T16:07:32.172852500Z",
     "start_time": "2024-01-23T16:07:32.162915900Z"
    }
   },
   "id": "ebcd902d2daf6c1a",
   "execution_count": 9
  },
  {
   "cell_type": "code",
   "outputs": [
    {
     "name": "stdout",
     "output_type": "stream",
     "text": [
      "1\n",
      "2\n",
      "3\n",
      "4\n",
      "5\n",
      "6\n",
      "7\n",
      "8\n",
      "9\n",
      "10\n"
     ]
    }
   ],
   "source": [
    "count_nums(10)"
   ],
   "metadata": {
    "collapsed": false,
    "ExecuteTime": {
     "end_time": "2024-01-23T16:07:33.168525500Z",
     "start_time": "2024-01-23T16:07:33.146503600Z"
    }
   },
   "id": "2c962db3f45460c9",
   "execution_count": 10
  },
  {
   "cell_type": "markdown",
   "source": [
    "Parameter vs argument:\n",
    "argument is passed when the function is called"
   ],
   "metadata": {
    "collapsed": false
   },
   "id": "8dac98d6d78d101e"
  },
  {
   "cell_type": "markdown",
   "source": [
    "Default argument"
   ],
   "metadata": {
    "collapsed": false
   },
   "id": "326abfa0ac20daef"
  },
  {
   "cell_type": "code",
   "outputs": [],
   "source": [
    "def count_nums(end_num=10):\n",
    "    for num in range(1, end_num+1):\n",
    "        print(num)"
   ],
   "metadata": {
    "collapsed": false,
    "ExecuteTime": {
     "end_time": "2024-01-23T16:09:30.637121300Z",
     "start_time": "2024-01-23T16:09:30.633158700Z"
    }
   },
   "id": "c69777ea16a3f781",
   "execution_count": 11
  },
  {
   "cell_type": "markdown",
   "source": [
    "*args & **kwargs\n",
    "This is called packing"
   ],
   "metadata": {
    "collapsed": false
   },
   "id": "8ceda543d3e8a113"
  },
  {
   "cell_type": "code",
   "outputs": [],
   "source": [
    "def sum_nums(a, b):\n",
    "    return a+b"
   ],
   "metadata": {
    "collapsed": false,
    "ExecuteTime": {
     "end_time": "2024-01-23T16:12:21.034019900Z",
     "start_time": "2024-01-23T16:12:21.018975200Z"
    }
   },
   "id": "96a3420f356382dc",
   "execution_count": 12
  },
  {
   "cell_type": "code",
   "outputs": [
    {
     "name": "stdout",
     "output_type": "stream",
     "text": [
      "3\n"
     ]
    }
   ],
   "source": [
    "print(sum_nums(1, 2))"
   ],
   "metadata": {
    "collapsed": false,
    "ExecuteTime": {
     "end_time": "2024-01-23T16:12:33.322085500Z",
     "start_time": "2024-01-23T16:12:33.284279Z"
    }
   },
   "id": "f160fbc90794e330",
   "execution_count": 13
  },
  {
   "cell_type": "code",
   "outputs": [],
   "source": [
    "def sum_nums(*args):\n",
    "    total_sum = 0\n",
    "    for el in args:\n",
    "        total_sum += el\n",
    "    return total_sum"
   ],
   "metadata": {
    "collapsed": false,
    "ExecuteTime": {
     "end_time": "2024-01-23T16:14:31.219034200Z",
     "start_time": "2024-01-23T16:14:31.208992500Z"
    }
   },
   "id": "a0c41efdcf8afc4a",
   "execution_count": 14
  },
  {
   "cell_type": "code",
   "outputs": [
    {
     "name": "stdout",
     "output_type": "stream",
     "text": [
      "644\n"
     ]
    }
   ],
   "source": [
    "print(sum_nums(2, 34, 4, 5, 599))"
   ],
   "metadata": {
    "collapsed": false,
    "ExecuteTime": {
     "end_time": "2024-01-23T16:14:46.245623600Z",
     "start_time": "2024-01-23T16:14:46.183159400Z"
    }
   },
   "id": "35eb1db7dcab9d9a",
   "execution_count": 15
  },
  {
   "cell_type": "code",
   "outputs": [
    {
     "name": "stdout",
     "output_type": "stream",
     "text": [
      "0\n"
     ]
    }
   ],
   "source": [
    "print(sum_nums())"
   ],
   "metadata": {
    "collapsed": false,
    "ExecuteTime": {
     "end_time": "2024-01-23T16:15:11.601879200Z",
     "start_time": "2024-01-23T16:15:11.572747200Z"
    }
   },
   "id": "828878bcfdcd4e68",
   "execution_count": 16
  },
  {
   "cell_type": "code",
   "outputs": [
    {
     "name": "stdout",
     "output_type": "stream",
     "text": [
      "1\n"
     ]
    }
   ],
   "source": [
    "print(sum_nums(1))"
   ],
   "metadata": {
    "collapsed": false,
    "ExecuteTime": {
     "end_time": "2024-01-23T16:15:27.567646300Z",
     "start_time": "2024-01-23T16:15:27.525277200Z"
    }
   },
   "id": "ceff106bdfa1d960",
   "execution_count": 17
  },
  {
   "cell_type": "code",
   "outputs": [],
   "source": [
    "def sum_nums(a, b, *args):\n",
    "    total_sum = 0\n",
    "    for el in args:\n",
    "        total_sum += el\n",
    "    return total_sum"
   ],
   "metadata": {
    "collapsed": false,
    "ExecuteTime": {
     "end_time": "2024-01-23T16:16:56.961562200Z",
     "start_time": "2024-01-23T16:16:56.942553600Z"
    }
   },
   "id": "f56c6ad4cfaf914a",
   "execution_count": 19
  },
  {
   "cell_type": "code",
   "outputs": [],
   "source": [
    "print()"
   ],
   "metadata": {
    "collapsed": false
   },
   "id": "7b2e02391335494c"
  }
 ],
 "metadata": {
  "kernelspec": {
   "display_name": "Python 3",
   "language": "python",
   "name": "python3"
  },
  "language_info": {
   "codemirror_mode": {
    "name": "ipython",
    "version": 2
   },
   "file_extension": ".py",
   "mimetype": "text/x-python",
   "name": "python",
   "nbconvert_exporter": "python",
   "pygments_lexer": "ipython2",
   "version": "2.7.6"
  }
 },
 "nbformat": 4,
 "nbformat_minor": 5
}
